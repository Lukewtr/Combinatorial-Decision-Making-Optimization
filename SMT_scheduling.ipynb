{
  "nbformat": 4,
  "nbformat_minor": 0,
  "metadata": {
    "colab": {
      "name": "SMT_scheduling.ipynb",
      "provenance": [],
      "collapsed_sections": [],
      "authorship_tag": "ABX9TyPQOqFbjnQyTTAqnmGW5w5x",
      "include_colab_link": true
    },
    "kernelspec": {
      "name": "python3",
      "display_name": "Python 3"
    },
    "language_info": {
      "name": "python"
    }
  },
  "cells": [
    {
      "cell_type": "markdown",
      "metadata": {
        "id": "view-in-github",
        "colab_type": "text"
      },
      "source": [
        "<a href=\"https://colab.research.google.com/github/Lukewtr/Combinatorial-Decision-Making-Optimization/blob/main/SMT_scheduling.ipynb\" target=\"_parent\"><img src=\"https://colab.research.google.com/assets/colab-badge.svg\" alt=\"Open In Colab\"/></a>"
      ]
    },
    {
      "cell_type": "code",
      "metadata": {
        "colab": {
          "base_uri": "https://localhost:8080/"
        },
        "id": "zRHz_tBDLR5k",
        "outputId": "906c4446-9ced-4b29-ccb7-19a2fc2fa3a6"
      },
      "source": [
        "# Install the required libraries:\n",
        "!pip3 install z3-solver"
      ],
      "execution_count": 89,
      "outputs": [
        {
          "output_type": "stream",
          "name": "stdout",
          "text": [
            "Requirement already satisfied: z3-solver in /usr/local/lib/python3.7/dist-packages (4.8.12.0)\n"
          ]
        }
      ]
    },
    {
      "cell_type": "code",
      "metadata": {
        "id": "WwORexorLcS7"
      },
      "source": [
        "# Import the required modules:\n",
        "import argparse\n",
        "import os\n",
        "\n",
        "import numpy as np\n",
        "import time\n",
        "from z3 import *"
      ],
      "execution_count": 90,
      "outputs": []
    },
    {
      "cell_type": "code",
      "metadata": {
        "id": "_pK6ZNriE393"
      },
      "source": [
        "optim = False   #TO BE CHANGED\n",
        "\n",
        "covid_span = 14\n",
        "interval_dates = 5\n",
        "\n",
        "max_p = 31 \n",
        "max_d = 25\n",
        "\n",
        "np = 31         #TO BE CHANGED\n",
        "nd = 25         #TO BE CHANGED\n",
        "\n",
        "bias_p = 0      #TO BE CHANGED\n",
        "bias_d = 0      #TO BE CHANGED\n",
        "\n",
        "np_min = min(0+bias_p, max_p-np)\n",
        "np_max = min(np+bias_p, max_p)\n",
        "\n",
        "nd_min = min(0+bias_d, max_d-nd)\n",
        "nd_max = min(nd+bias_d, max_d)\n",
        "\n",
        "min_ppl = 5     #TO BE CHANGED\n",
        "max_ppl = 8     #TO BE CHANGED\n",
        "\n",
        "m = [[0, 1, 1, 0, 1, 0, 0, 1, 0, 1, 0, 0, 1, 0, 1, 1, 0, 1, 0, 0, 1, 0, 1, 1, 0],\n",
        " [1, 0, 1, 0, 1, 0, 1, 1, 0, 1, 1, 0, 0, 0, 0, 1, 1, 1, 1, 1, 0, 0, 0, 0, 0],\n",
        " [0, 1, 1, 1, 0, 0, 1, 1, 1, 0, 0, 1, 0, 0, 0, 1, 0, 0, 0, 1, 0, 0, 0, 0, 0],\n",
        " [1, 0, 0, 0, 0, 0, 1, 0, 1, 1, 1, 0, 0, 1, 0, 0, 1, 0, 1, 0, 0, 1, 0, 0, 0],\n",
        " [1, 0, 1, 0, 0, 1, 1, 0, 1, 1, 0, 0, 1, 1, 1, 1, 1, 1, 1, 1, 1, 0, 1, 1, 1],\n",
        " [0, 1, 1, 0, 1, 0, 1, 0, 0, 0, 0, 0, 0, 0, 1, 1, 0, 0, 1, 0, 1, 1, 0, 0, 0],\n",
        " [1, 0, 0, 1, 0, 1, 1, 0, 1, 1, 1, 0, 1, 0, 0, 0, 0, 1, 0, 1, 0, 0, 1, 1, 1],\n",
        " [1, 1, 1, 0, 0, 1, 0, 0, 1, 0, 0, 1, 0, 0, 1, 0, 0, 1, 1, 0, 0, 0, 0, 0, 1],\n",
        " [1, 0, 1, 0, 0, 0, 1, 1, 0, 1, 0, 1, 0, 1, 0, 1, 1, 0, 0, 1, 1, 0, 0, 0, 0],\n",
        " [0, 0, 0, 1, 1, 0, 1, 0, 0, 1, 1, 0, 1, 0, 1, 1, 0, 0, 0, 1, 1, 0, 0, 0, 0],\n",
        " [1, 1, 1, 1, 0, 1, 0, 0, 0, 0, 1, 1, 0, 1, 0, 0, 0, 0, 0, 0, 0, 0, 1, 0, 1],\n",
        " [0, 1, 1, 1, 1, 0, 0, 1, 0, 0, 1, 1, 1, 0, 0, 1, 1, 0, 0, 1, 0, 1, 0, 1, 1],\n",
        " [1, 0, 1, 1, 0, 0, 0, 0, 0, 1, 0, 0, 1, 1, 1, 1, 0, 0, 1, 0, 0, 0, 0, 0, 0],\n",
        " [1, 0, 1, 0, 0, 1, 1, 1, 1, 1, 1, 1, 1, 1, 1, 0, 0, 1, 0, 0, 0, 1, 1, 1, 1],\n",
        " [1, 1, 1, 1, 0, 1, 1, 1, 1, 0, 1, 1, 0, 1, 1, 1, 1, 0, 1, 0, 1, 0, 1, 1, 0],\n",
        " [1, 1, 1, 1, 1, 0, 1, 0, 0, 0, 1, 0, 0, 0, 0, 0, 1, 1, 1, 1, 0, 0, 0, 0, 0],\n",
        " [1, 0, 0, 0, 0, 1, 1, 1, 1, 1, 1, 1, 1, 0, 1, 1, 0, 1, 0, 0, 1, 0, 1, 1, 1],\n",
        " [0, 0, 0, 1, 1, 1, 0, 0, 0, 0, 0, 1, 0, 0, 1, 1, 0, 1, 1, 0, 0, 1, 0, 0, 1],\n",
        " [1, 1, 1, 1, 0, 1, 1, 1, 0, 0, 0, 0, 1, 1, 0, 0, 1, 1, 1, 0, 0, 0, 0, 1, 1],\n",
        " [1, 1, 1, 1, 0, 1, 1, 0, 0, 0, 1, 0, 0, 1, 1, 0, 0, 1, 1, 0, 1, 1, 0, 1, 0],\n",
        " [0, 1, 1, 1, 1, 1, 0, 0, 1, 1, 1, 0, 0, 0, 1, 0, 0, 0, 0, 1, 1, 0, 1, 0, 1],\n",
        " [1, 0, 1, 1, 0, 1, 1, 1, 0, 1, 0, 1, 1, 1, 0, 1, 1, 0, 0, 1, 1, 1, 0, 1, 1],\n",
        " [0, 1, 1, 0, 0, 1, 0, 1, 0, 1, 1, 0, 1, 1, 1, 1, 0, 0, 1, 1, 1, 1, 1, 0, 0],\n",
        " [0, 0, 0, 0, 0, 0, 1, 0, 1, 1, 1, 0, 0, 1, 0, 0, 1, 0, 1, 1, 1, 1, 0, 1, 1],\n",
        " [1, 1, 0, 0, 0, 1, 0, 1, 0, 1, 1, 0, 1, 1, 0, 1, 1, 1, 1, 0, 0, 1, 0, 1, 0],\n",
        " [0, 0, 1, 0, 1, 0, 0, 0, 1, 1, 0, 0, 0, 1, 1, 1, 1, 1, 0, 1, 0, 0, 1, 0, 0],\n",
        " [0, 1, 1, 1, 1, 0, 1, 0, 0, 0, 0, 1, 1, 0, 0, 1, 0, 1, 1, 0, 0, 1, 1, 1, 1],\n",
        " [0, 0, 1, 0, 1, 0, 0, 0, 1, 1, 0, 0, 1, 0, 0, 1, 1, 0, 0, 1, 1, 0, 1, 0, 0],\n",
        " [0, 0, 1, 1, 1, 1, 0, 0, 0, 1, 1, 0, 1, 1, 0, 1, 1, 0, 1, 1, 0, 1, 1, 1, 0],\n",
        " [0, 0, 1, 1, 1, 0, 1, 1, 1, 0, 0, 1, 1, 0, 1, 1, 0, 0, 1, 0, 0, 0, 0, 0, 0],\n",
        " [0, 1, 0, 0, 1, 0, 1, 1, 1, 0, 1, 0, 1, 1, 1, 0, 0, 1, 0, 0, 0, 1, 0, 1, 0]]\n",
        "\n",
        "box_notBool = []\n",
        "for i in range(np_min,np_max):\n",
        "    box_notBool.append(m[i][nd_min:nd_max])\n",
        "\n",
        "box = []\n",
        "for i in range(len(box_notBool)):\n",
        "    subbox = []\n",
        "    for j in range(len(box_notBool[0])):\n",
        "        subbox.append(True if box_notBool[i][j]==1 else False)\n",
        "    box.append(subbox)\n",
        "\n",
        "box = box_notBool\n",
        "#print(box)"
      ],
      "execution_count": null,
      "outputs": []
    },
    {
      "cell_type": "code",
      "metadata": {
        "id": "5jk-wryZMx7H"
      },
      "source": [
        "# VARIABLES:----------------------------------------------------\n",
        "# Matrix solution Y:\n",
        "Y = []\n",
        "for i in range(np):\n",
        "    for j in range(nd):\n",
        "        Y.append(Int(\"y_{}_{}\".format(i,j)))\n",
        "#print(Y)\n",
        "\n",
        "# Optimal matrix solution Y:\n",
        "OY = []\n",
        "for i in range(np):\n",
        "    for j in range(nd): pass\n",
        "        #OY.append(Int(\"oy_{}_{}\".format(i,j)))\n",
        "\n",
        "# 3D co-partecipations matrix COY:\n",
        "COY = []\n",
        "for i in range(np):\n",
        "    for j in range(nd):\n",
        "        for oi in range(np):\n",
        "            COY.append(Int(\"coy_{}_{}_{}\".format(i,j,oi)))\n",
        "#print(COY)            \n",
        "\n",
        "# Cumulative partecipations matrix covid:\n",
        "#covid = []\n",
        "#for i in range(np):\n",
        "#    for j in range(nd):\n",
        "#        covid.append(Int(\"covid_{}_{}\".format(i,j)))\n",
        "\n",
        "# Date solution X:\n",
        "X = []\n",
        "for j in range(nd):\n",
        "    X.append(Int(\"x_{}\".format(j)))\n",
        "\n",
        "# Cumulative Dates XX:\n",
        "XX = []\n",
        "for j in range(nd):\n",
        "    XX.append(Int(\"xx_{}\".format(j)))\n",
        "\n",
        "# Optimal Dates XX:\n",
        "OX = []\n",
        "for j in range(nd): pass\n",
        "    #OX.append(Int(\"ox_{}\".format(j)))\n",
        "\n",
        "# Partecipants solution I:\n",
        "I = []\n",
        "for i in range(np):\n",
        "    I.append(Int(\"i_{}\".format(i)))\n",
        "\n",
        "# Cumulative Partecipants II:\n",
        "II = []\n",
        "for i in range(np):\n",
        "    II.append(Int(\"ii_{}\".format(i)))"
      ],
      "execution_count": null,
      "outputs": []
    },
    {
      "cell_type": "code",
      "metadata": {
        "id": "TeyyAKeiSqeF"
      },
      "source": [
        "# CONSTRAINTS:---------------------------------------------------\n",
        "if not optim: s = Solver()\n",
        "else: s = Optimize()\n",
        "\n",
        "# Y matrix:\n",
        "for var in Y:\n",
        "    s.add(Or(var==1, var==0))\n",
        "\n",
        "# 0) Matrices consturction:\n",
        "# OY matrix:\n",
        "def f(i,oi):\n",
        "    if i//2 == oi//2: return 1\n",
        "    else: return 0\n",
        "def g(i,oi):\n",
        "    if i//3 == oi//3: return 1\n",
        "    else: return 0\n",
        "#for j in range(nd):\n",
        "#    for i in range(np):\n",
        "#        s.add(If(\n",
        "#            Y[i*nd + j]==1,\n",
        "#            OY[i*nd + j] == Sum([f(i,oi) + g(i,oi) for oi in range(np) if oi!=i]),\n",
        "#            OY[i*nd + j] == 0\n",
        "#        ))\n",
        "        \n",
        "# X matrix:\n",
        "for j in range(nd):\n",
        "    s.add(Or(X[j]==1, X[j]==0))\n",
        "\n",
        "for j in range(nd):\n",
        "    #s.add(If(Sum([box[i][j] for i in range(np)]) > min_ppl, \n",
        "    #         X[j]==1, \n",
        "    #         X[j]==0))\n",
        "    s.add(If(X[j]==1, \n",
        "             XX[j] >= min_ppl, \n",
        "             XX[j] == 0))    \n",
        "    \n",
        "# XX matrix:\n",
        "for j in range(nd):\n",
        "    s.add(XX[j] == Sum([Y[i]for i in range(j, len(Y), nd)]))\n",
        "\n",
        "# OX matrix:\n",
        "for j in range(nd): pass\n",
        "#    s.add(OX[j] == Sum([OY[i]for i in range(j, len(Y), nd)]))\n",
        "\n",
        "# I matrix:\n",
        "for i in range(np):\n",
        "    s.add(Or(I[i]==1, I[i]==0))\n",
        "\n",
        "for i in range(np):\n",
        "    s.add(If(Sum(box[i]) > 0, \n",
        "             I[i]==1, \n",
        "             I[i]==0))\n",
        "    s.add(If(I[i]==1, \n",
        "             Or([Y[j]==1 for j in range(i*nd, (i+1)*nd)]), \n",
        "             And([Y[j]==0 for j in range(i*nd, (i+1)*nd)])))    \n",
        "    \n",
        "# II matrix:\n",
        "for i in range(np):\n",
        "    s.add(II[i] == Sum([Y[j] for j in range(i*nd, (i+1)*nd)]))\n",
        "\n",
        "# COY matrix:\n",
        "def idx(i,j,oi):\n",
        "    return i*np*nd + j*np + oi\n",
        "\n",
        "for i in range(np):\n",
        "    for j in range(nd):\n",
        "        for oi in range(np):\n",
        "            s.add(Or(COY[idx(i,j,oi)]==1, COY[idx(i,j,oi)]==0))\n",
        "\n",
        "for i in range(np):\n",
        "    for j in range(nd):\n",
        "        for oi in range(np):\n",
        "            if i==oi: s.add(COY[idx(i,j,oi)]==0)\n",
        "            else:\n",
        "                min_j = min(0, j - covid_span//interval_dates)\n",
        "                max_j = min(nd, j + covid_span//interval_dates)\n",
        "\n",
        "                s.add(If((\n",
        "                    Or([And(Y[i*nd+jj]==1, \n",
        "                            Y[oi*nd+jj]==1) for jj in range(min_j, max_j)])\n",
        "                ), COY[idx(i,j,oi)]==1, COY[idx(i,j,oi)]==0))\n",
        "\n",
        "\n",
        "# 1) Check availability:\n",
        "for i in range(np):\n",
        "    for j in range(nd):\n",
        "        #s.add(Or(Y[i*nd+j]==0, box[i][j]==1))\n",
        "        s.add(If(box[i][j]==0, Y[i*nd + j]==0, True))\n",
        "\n",
        "\n",
        "# 2) Partecipations are in range(min_ppl,max_ppl) per each date and every kid \n",
        "#     who has given at least one availability should come at least once:\n",
        "for j in range(nd):\n",
        "    s.add(If(X[j]==1, And(XX[j]>=min_ppl, XX[j]<=max_ppl), XX[j]==0))\n",
        "\n",
        "\n",
        "# 3) Covid constraint:\n",
        "for i in range(np):\n",
        "    for j in range(nd):\n",
        "        s.add(sum(COY[idx(i,j,0):idx(i,j+1,0)]) < max_ppl)"
      ],
      "execution_count": 136,
      "outputs": []
    },
    {
      "cell_type": "code",
      "metadata": {
        "colab": {
          "base_uri": "https://localhost:8080/"
        },
        "id": "WY3PHyCKA2UR",
        "outputId": "ea797055-fe58-4338-93f0-baf7bdb4f011"
      },
      "source": [
        "if optim: s.maximize(Sum(OX))\n",
        "before = time.time()\n",
        "print(s.check())\n",
        "after = time.time()"
      ],
      "execution_count": 137,
      "outputs": [
        {
          "output_type": "stream",
          "name": "stdout",
          "text": [
            "sat\n"
          ]
        }
      ]
    },
    {
      "cell_type": "code",
      "metadata": {
        "colab": {
          "base_uri": "https://localhost:8080/"
        },
        "id": "q-EPDEBS5BDL",
        "outputId": "31169bdc-e02a-446b-8e9e-de11d77bef4e"
      },
      "source": [
        "print(after-before)"
      ],
      "execution_count": 138,
      "outputs": [
        {
          "output_type": "stream",
          "name": "stdout",
          "text": [
            "603.3063988685608\n"
          ]
        }
      ]
    },
    {
      "cell_type": "code",
      "metadata": {
        "id": "WaOTy2Xdd7qy"
      },
      "source": [
        "m = s.model()\n",
        "\n",
        "print([m[X[j]] for j in range(nd)])\n",
        "print([m[XX[j]] for j in range(nd)], \"\\n\")\n",
        "print(\"Solutions: \\t\\t\\t\\t\\t Given Availability:\")\n",
        "for i in range(np):\n",
        "    print([m[Y[j]] for j in range(i*nd,(i+1)*nd)], \"  \", m[II[i]], \"\\t\", box[i])"
      ],
      "execution_count": null,
      "outputs": []
    }
  ]
}